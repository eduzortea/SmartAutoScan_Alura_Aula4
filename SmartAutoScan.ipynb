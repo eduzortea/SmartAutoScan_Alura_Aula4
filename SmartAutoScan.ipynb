{
  "nbformat": 4,
  "nbformat_minor": 0,
  "metadata": {
    "colab": {
      "provenance": [],
      "mount_file_id": "1727JUQBHwRX9Er-qMM60ii0WTBLRoKEN",
      "authorship_tag": "ABX9TyMthCsI4eRx65yjLppVmXBc",
      "include_colab_link": true
    },
    "kernelspec": {
      "name": "python3",
      "display_name": "Python 3"
    },
    "language_info": {
      "name": "python"
    }
  },
  "cells": [
    {
      "cell_type": "markdown",
      "metadata": {
        "id": "view-in-github",
        "colab_type": "text"
      },
      "source": [
        "<a href=\"https://colab.research.google.com/github/eduzortea/SmartAutoScan_Alura_Aula4/blob/main/SmartAutoScan.ipynb\" target=\"_parent\"><img src=\"https://colab.research.google.com/assets/colab-badge.svg\" alt=\"Open In Colab\"/></a>"
      ]
    },
    {
      "cell_type": "code",
      "execution_count": 10,
      "metadata": {
        "colab": {
          "base_uri": "https://localhost:8080/",
          "height": 255
        },
        "id": "-i0m7QPSsEH1",
        "outputId": "030a844b-c4fd-4603-d736-14fb67d53259"
      },
      "outputs": [
        {
          "output_type": "stream",
          "name": "stdout",
          "text": [
            "Drive already mounted at /content/drive; to attempt to forcibly remount, call drive.mount(\"/content/drive\", force_remount=True).\n",
            "Você está correto! Parece que você compreendeu bem a classificação de danos de um veículo, levando em consideração o ponto de vista financeiro de um especialista de sinistro. \n",
            "\n",
            "Sua avaliação dos exemplos fornecidos foi precisa:\n",
            "\n",
            "* **AUE-267789 Sem Dano:** O veículo está intacto, sem nenhum sinal de dano.\n",
            "* **AX7-894778 Dano Leve:** O dano se concentra na lateral traseira, aparentando ser apenas na lataria, o que indica um custo de reparo relativamente baixo.\n",
            "* **WER-897421 Dano Médio:**  O dano se estende à estrutura frontal do veículo, com peças faltantes e necessidade de substituição, elevando o custo do reparo, porém ainda sendo possivelmente inferior ao valor total do veículo.\n",
            "* **HRV-782547 Dano Severo:** O dano é catastrófico, comprometendo toda a estrutura do veículo. O alto custo de reparo, aliado à gravidade do dano, provavelmente torna o veículo inviável para recuperação, configurando perda total. \n",
            "\n",
            "É importante lembrar que a avaliação de danos veiculares é complexa e exige conhecimento técnico. Outros fatores, como danos mecânicos ocultos, valor de mercado do veículo e custos de mão de obra, também influenciam na decisão final do especialista. \n",
            "\n"
          ]
        }
      ],
      "source": [
        "from pathlib import Path\n",
        "import hashlib\n",
        "import google.generativeai as genai\n",
        "from google.colab import userdata\n",
        "from google.colab import drive\n",
        "drive.mount('/content/drive')\n",
        "\n",
        "\n",
        "# Carregar as imagens e configurar o caminho base\n",
        "\n",
        "from pathlib import Path\n",
        "\n",
        "# Definindo os caminhos para as pastas\n",
        "images_aprendizado_path = Path(\"/content/drive/MyDrive/Colab Notebooks/aprendizado\")\n",
        "images_path = Path(\"/content/drive/MyDrive/Colab Notebooks/avaliar\")\n",
        " # Ajuste para o caminho onde as imagens para avaliacao estao avaliadas\n",
        "\n",
        "\n",
        "# Obter a chave de API e configurar o GenAI\n",
        "api_key = userdata.get(\"SECRET_KEY\")\n",
        "genai.configure(api_key=api_key)\n",
        "\n",
        "# Configuração do modelo\n",
        "generation_config = {\n",
        "  \"temperature\": 1,\n",
        "  \"top_p\": 0.95,\n",
        "  \"top_k\": 0,\n",
        "  \"max_output_tokens\": 8192,\n",
        "}\n",
        "\n",
        "safety_settings = [\n",
        "  # suas configurações de segurança\n",
        "]\n",
        "\n",
        "model = genai.GenerativeModel(model_name=\"gemini-1.5-pro-latest\",\n",
        "                              generation_config=generation_config,\n",
        "                              safety_settings=safety_settings)\n",
        "\n",
        "#ATENCAO PLACAS FICTICIAS DIGITADAS ALEATORIAMENTE\n",
        "prompt_parts = [\n",
        "    \"Analise com um especialista de sinistro e analise o dano do ponto de vista financeiro. Classificando em: Sem Dano, Dano Leve, Dano Médio e Dano Severo\",\n",
        "    \"input: \",\n",
        "    genai.upload_file(str(images_aprendizado_path/ \"AUE-267789.jpeg\")),\n",
        "    \"output: AUE-267789 Sem Dano\",\n",
        "    \"input: \",\n",
        "    genai.upload_file(str(images_aprendizado_path / \"AX7-894778.jpeg\")),\n",
        "    \"output: AX7-894778 Dano Leve\",\n",
        "    \"input: \",\n",
        "    genai.upload_file(str(images_aprendizado_path / \"WER-897421.jpeg\")),\n",
        "    \"output: WER-897421 Dano Médio\",\n",
        "    \"input: \",\n",
        "    genai.upload_file(str(images_aprendizado_path / \"HRV-782547.jpeg\")),\n",
        "    \"output: HRV-782547 Dano Severo\"\n",
        "]\n",
        "\n",
        "# Adicionar imagens adicionais dinamicamente ao prompt\n",
        "additional_images = [f\"image{i}.png\" for i in range(4, 10)]  # Ajuste conforme o número de imagens extras\n",
        "for image_name in additional_images:\n",
        "    image_path = images_path / image_name\n",
        "    if image_path.exists():\n",
        "        prompt_parts.extend([\n",
        "            \"input: \",\n",
        "            genai.upload_file(str(image_path)),\n",
        "            \"output: \",  # IA gera a resposta\n",
        "        ])\n",
        "\n",
        "# Gerar conteúdo com o modelo\n",
        "response = model.generate_content(prompt_parts)\n",
        "print(response.text)\n"
      ]
    }
  ]
}